{
 "cells": [
  {
   "cell_type": "code",
   "execution_count": 33,
   "id": "c08379b5",
   "metadata": {},
   "outputs": [],
   "source": [
    "import numpy as np\n",
    "from scipy.signal import welch"
   ]
  },
  {
   "cell_type": "code",
   "execution_count": 34,
   "id": "b84a53be",
   "metadata": {},
   "outputs": [],
   "source": [
    "data = np.loadtxt(\"eeg-data.txt\")"
   ]
  },
  {
   "cell_type": "code",
   "execution_count": 35,
   "id": "76a768b3",
   "metadata": {},
   "outputs": [],
   "source": [
    "fs = 256"
   ]
  },
  {
   "cell_type": "code",
   "execution_count": 36,
   "id": "43cb56be",
   "metadata": {},
   "outputs": [],
   "source": [
    "bands = {\n",
    "    \"Delta\": (1, 4),\n",
    "    \"Theta\": (4, 8),\n",
    "    \"Alpha\": (8, 13),\n",
    "    \"Beta\": (13, 30),\n",
    "}"
   ]
  },
  {
   "cell_type": "code",
   "execution_count": 37,
   "id": "8ddff2bb",
   "metadata": {},
   "outputs": [],
   "source": [
    "f, psd = welch(data, fs=fs, nperseg=1024, window=\"hann\")"
   ]
  },
  {
   "cell_type": "code",
   "execution_count": 38,
   "id": "0225b203",
   "metadata": {},
   "outputs": [],
   "source": [
    "bandpowers = {}\n",
    "for band_name, freq_range in bands.items():\n",
    "    f_start, f_end = freq_range\n",
    "    mask = (f >= f_start) & (f <= f_end)\n",
    "    bandpowers[band_name] = np.sum(psd[mask])"
   ]
  },
  {
   "cell_type": "code",
   "execution_count": 39,
   "id": "7858e23a",
   "metadata": {},
   "outputs": [],
   "source": [
    "total_power = np.sum(psd)\n",
    "relative_bandpowers = {band_name: power / total_power for band_name, power in bandpowers.items()}"
   ]
  },
  {
   "cell_type": "code",
   "execution_count": 40,
   "id": "7fb33850",
   "metadata": {},
   "outputs": [],
   "source": [
    "highest_band, highest_power = max(relative_bandpowers.items(), key=lambda item: item[1])"
   ]
  },
  {
   "cell_type": "code",
   "execution_count": 41,
   "id": "9d6bcfc4",
   "metadata": {},
   "outputs": [
    {
     "name": "stdout",
     "output_type": "stream",
     "text": [
      "Band with highest relative bandpower: Delta\n",
      "Relative bandpower: 0.58\n"
     ]
    }
   ],
   "source": [
    "print(f\"Band with highest relative bandpower: {highest_band}\")\n",
    "print(f\"Relative bandpower: {highest_power:.2f}\")"
   ]
  },
  {
   "cell_type": "code",
   "execution_count": 42,
   "id": "baf28c12",
   "metadata": {},
   "outputs": [
    {
     "name": "stdout",
     "output_type": "stream",
     "text": [
      "Delta absolute bandpower: 924.57\n",
      "Theta absolute bandpower: 384.51\n",
      "Alpha absolute bandpower: 152.78\n",
      "Beta absolute bandpower: 146.47\n"
     ]
    }
   ],
   "source": [
    "for band_name, power in bandpowers.items():\n",
    "    print(f\"{band_name} absolute bandpower: {power:.2f}\")"
   ]
  },
  {
   "cell_type": "code",
   "execution_count": null,
   "id": "9d2590db",
   "metadata": {},
   "outputs": [],
   "source": []
  }
 ],
 "metadata": {
  "kernelspec": {
   "display_name": "Python 3 (ipykernel)",
   "language": "python",
   "name": "python3"
  },
  "language_info": {
   "codemirror_mode": {
    "name": "ipython",
    "version": 3
   },
   "file_extension": ".py",
   "mimetype": "text/x-python",
   "name": "python",
   "nbconvert_exporter": "python",
   "pygments_lexer": "ipython3",
   "version": "3.11.5"
  }
 },
 "nbformat": 4,
 "nbformat_minor": 5
}
